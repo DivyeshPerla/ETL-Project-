{
 "cells": [
  {
   "cell_type": "code",
   "execution_count": 1,
   "id": "334fc40e-2996-48e1-8440-de192de7b22c",
   "metadata": {},
   "outputs": [
    {
     "name": "stderr",
     "output_type": "stream",
     "text": [
      "<>:4: SyntaxWarning: invalid escape sequence '\\D'\n",
      "<>:4: SyntaxWarning: invalid escape sequence '\\D'\n",
      "C:\\Users\\divye\\AppData\\Local\\Temp\\ipykernel_2132\\3216228648.py:4: SyntaxWarning: invalid escape sequence '\\D'\n",
      "  file_path  = 'D:\\Divyesh/RELAY_GHE_DATA.csv'\n"
     ]
    },
    {
     "name": "stdout",
     "output_type": "stream",
     "text": [
      "<class 'pandas.core.frame.DataFrame'>\n",
      "RangeIndex: 24522 entries, 0 to 24521\n",
      "Data columns (total 11 columns):\n",
      " #   Column                  Non-Null Count  Dtype  \n",
      "---  ------                  --------------  -----  \n",
      " 0   IND_ID                  24522 non-null  object \n",
      " 1   IND_CODE                24522 non-null  object \n",
      " 2   IND_UUID                24522 non-null  object \n",
      " 3   IND_PER_CODE            24522 non-null  float64\n",
      " 4   DIM_TIME                24522 non-null  int64  \n",
      " 5   DIM_TIME_TYPE           24522 non-null  object \n",
      " 6   DIM_GEO_CODE_M49        24522 non-null  int64  \n",
      " 7   DIM_GEO_CODE_TYPE       24522 non-null  object \n",
      " 8   DIM_PUBLISH_STATE_CODE  24522 non-null  object \n",
      " 9   IND_NAME                24522 non-null  object \n",
      " 10  GEO_NAME_SHORT          24522 non-null  object \n",
      "dtypes: float64(1), int64(2), object(8)\n",
      "memory usage: 2.1+ MB\n"
     ]
    },
    {
     "data": {
      "text/plain": [
       "{'Head':            IND_ID         IND_CODE IND_UUID  IND_PER_CODE  DIM_TIME  \\\n",
       " 0  C64284D6167E74  DEATH_TOP_CAUSE  C64284D  6.167000e+77      2021   \n",
       " 1  C64284D6167E74  DEATH_TOP_CAUSE  C64284D  6.167000e+77      2021   \n",
       " 2  C64284D6167E74  DEATH_TOP_CAUSE  C64284D  6.167000e+77      2021   \n",
       " 3  C64284D6167E74  DEATH_TOP_CAUSE  C64284D  6.167000e+77      2021   \n",
       " 4  C64284D6167E74  DEATH_TOP_CAUSE  C64284D  6.167000e+77      2021   \n",
       " \n",
       "   DIM_TIME_TYPE  DIM_GEO_CODE_M49 DIM_GEO_CODE_TYPE DIM_PUBLISH_STATE_CODE  \\\n",
       " 0          YEAR                32           COUNTRY              PUBLISHED   \n",
       " 1          YEAR                32           COUNTRY              PUBLISHED   \n",
       " 2          YEAR                32           COUNTRY              PUBLISHED   \n",
       " 3          YEAR                32           COUNTRY              PUBLISHED   \n",
       " 4          YEAR                32           COUNTRY              PUBLISHED   \n",
       " \n",
       "               IND_NAME GEO_NAME_SHORT  \n",
       " 0  Top causes of death      Argentina  \n",
       " 1  Top causes of death      Argentina  \n",
       " 2  Top causes of death      Argentina  \n",
       " 3  Top causes of death      Argentina  \n",
       " 4  Top causes of death      Argentina  ,\n",
       " 'Info': None,\n",
       " 'Description':                 IND_ID         IND_CODE IND_UUID  IND_PER_CODE  DIM_TIME  \\\n",
       " count            24522            24522    24522  2.452200e+04   24522.0   \n",
       " unique               1                1        1           NaN       NaN   \n",
       " top     C64284D6167E74  DEATH_TOP_CAUSE  C64284D           NaN       NaN   \n",
       " freq             24522            24522    24522           NaN       NaN   \n",
       " mean               NaN              NaN      NaN  6.167000e+77    2021.0   \n",
       " std                NaN              NaN      NaN  2.813870e+65       0.0   \n",
       " min                NaN              NaN      NaN  6.167000e+77    2021.0   \n",
       " 25%                NaN              NaN      NaN  6.167000e+77    2021.0   \n",
       " 50%                NaN              NaN      NaN  6.167000e+77    2021.0   \n",
       " 75%                NaN              NaN      NaN  6.167000e+77    2021.0   \n",
       " max                NaN              NaN      NaN  6.167000e+77    2021.0   \n",
       " \n",
       "        DIM_TIME_TYPE  DIM_GEO_CODE_M49 DIM_GEO_CODE_TYPE  \\\n",
       " count          24522      24522.000000             24522   \n",
       " unique             1               NaN                 1   \n",
       " top             YEAR               NaN           COUNTRY   \n",
       " freq           24522               NaN             24522   \n",
       " mean             NaN        429.732240               NaN   \n",
       " std              NaN        255.100168               NaN   \n",
       " min              NaN          4.000000               NaN   \n",
       " 25%              NaN        204.000000               NaN   \n",
       " 50%              NaN        422.000000               NaN   \n",
       " 75%              NaN        662.000000               NaN   \n",
       " max              NaN        894.000000               NaN   \n",
       " \n",
       "        DIM_PUBLISH_STATE_CODE             IND_NAME GEO_NAME_SHORT  \n",
       " count                   24522                24522          24522  \n",
       " unique                      1                    1            183  \n",
       " top                 PUBLISHED  Top causes of death      Argentina  \n",
       " freq                    24522                24522            134  \n",
       " mean                      NaN                  NaN            NaN  \n",
       " std                       NaN                  NaN            NaN  \n",
       " min                       NaN                  NaN            NaN  \n",
       " 25%                       NaN                  NaN            NaN  \n",
       " 50%                       NaN                  NaN            NaN  \n",
       " 75%                       NaN                  NaN            NaN  \n",
       " max                       NaN                  NaN            NaN  }"
      ]
     },
     "execution_count": 1,
     "metadata": {},
     "output_type": "execute_result"
    }
   ],
   "source": [
    "import pandas as pd\n",
    "\n",
    "# Load the dataset\n",
    "file_path  = 'D:\\Divyesh/RELAY_GHE_DATA.csv'\n",
    "\n",
    "data = pd.read_csv(file_path)\n",
    "\n",
    "# Display the first few rows and general information about the dataset\n",
    "data_info = {\n",
    "    \"Head\": data.head(),\n",
    "    \"Info\": data.info(),\n",
    "    \"Description\": data.describe(include='all')\n",
    "}\n",
    "\n",
    "data_info"
   ]
  },
  {
   "cell_type": "code",
   "execution_count": 3,
   "id": "e1b0282c-746c-4753-bdba-825f00ec0dc0",
   "metadata": {},
   "outputs": [
    {
     "data": {
      "text/plain": [
       "{'Cleaned_Head':    Indicator_Value  Year  Country_Code Code_Type       Indicator_Name  \\\n",
       " 0     6.167000e+77  2021            32   COUNTRY  Top causes of death   \n",
       " 1     6.167000e+77  2021            32   COUNTRY  Top causes of death   \n",
       " 2     6.167000e+77  2021            32   COUNTRY  Top causes of death   \n",
       " 3     6.167000e+77  2021            32   COUNTRY  Top causes of death   \n",
       " 4     6.167000e+77  2021            32   COUNTRY  Top causes of death   \n",
       " \n",
       "   Country_Name  \n",
       " 0    Argentina  \n",
       " 1    Argentina  \n",
       " 2    Argentina  \n",
       " 3    Argentina  \n",
       " 4    Argentina  ,\n",
       " 'Missing_Values': Indicator_Value    0\n",
       " Year               0\n",
       " Country_Code       0\n",
       " Code_Type          0\n",
       " Indicator_Name     0\n",
       " Country_Name       0\n",
       " dtype: int64,\n",
       " 'Indicator_Value_Stats': count    2.452200e+04\n",
       " mean     6.167000e+77\n",
       " std      2.813870e+65\n",
       " min      6.167000e+77\n",
       " 25%      6.167000e+77\n",
       " 50%      6.167000e+77\n",
       " 75%      6.167000e+77\n",
       " max      6.167000e+77\n",
       " Name: Indicator_Value, dtype: float64}"
      ]
     },
     "execution_count": 3,
     "metadata": {},
     "output_type": "execute_result"
    }
   ],
   "source": [
    "# Step 1: Drop redundant columns\n",
    "columns_to_drop = ['IND_ID', 'IND_CODE', 'IND_UUID', 'DIM_TIME_TYPE', 'DIM_PUBLISH_STATE_CODE']\n",
    "data_cleaned = data.drop(columns=columns_to_drop)\n",
    "\n",
    "# Step 2: Rename columns for clarity\n",
    "data_cleaned = data_cleaned.rename(columns={\n",
    "    'IND_PER_CODE': 'Indicator_Value',\n",
    "    'DIM_TIME': 'Year',\n",
    "    'DIM_GEO_CODE_M49': 'Country_Code',\n",
    "    'DIM_GEO_CODE_TYPE': 'Code_Type',\n",
    "    'IND_NAME': 'Indicator_Name',\n",
    "    'GEO_NAME_SHORT': 'Country_Name'\n",
    "})\n",
    "\n",
    "# Step 3: Check for missing or anomalous values\n",
    "missing_data_summary = data_cleaned.isnull().sum()\n",
    "indicator_value_stats = data_cleaned['Indicator_Value'].describe()\n",
    "\n",
    "# Display cleaned data and summary stats\n",
    "{\n",
    "    \"Cleaned_Head\": data_cleaned.head(),\n",
    "    \"Missing_Values\": missing_data_summary,\n",
    "    \"Indicator_Value_Stats\": indicator_value_stats\n",
    "}\n"
   ]
  },
  {
   "cell_type": "code",
   "execution_count": 7,
   "id": "18d2f9ac-4f06-48a6-9032-5b51a7652568",
   "metadata": {},
   "outputs": [
    {
     "name": "stdout",
     "output_type": "stream",
     "text": [
      "   Year         Country_Name  Record_Count\n",
      "0  2021          Afghanistan           134\n",
      "1  2021              Albania           134\n",
      "2  2021              Algeria           134\n",
      "3  2021               Angola           134\n",
      "4  2021  Antigua and Barbuda           134\n",
      "Data saved successfully to Cleaned_WHO_Causes_of_Death.csv\n"
     ]
    }
   ],
   "source": [
    "# Step 1: Group data by Year and Country_Name\n",
    "# Since Indicator_Value is not useful as-is, we'll keep a record of counts for now.\n",
    "grouped_data = data_cleaned.groupby(['Year', 'Country_Name']).size().reset_index(name='Record_Count')\n",
    "\n",
    "# Step 2: Save the cleaned and grouped data to a new CSV file\n",
    "output_path = 'D:/Divyesh/Cleaned_WHO_Causes_of_Death.csv'\n",
    "grouped_data.to_csv(output_path, index=False)\n",
    "\n",
    "# Save the cleaned and grouped data to a new CSV file\n",
    "output_path = 'Cleaned_WHO_Causes_of_Death.csv'\n",
    "grouped_data.to_csv(output_path, index=False)\n",
    "\n",
    "# Display a preview of the grouped data\n",
    "print(grouped_data.head())\n",
    "\n",
    "print(f\"Data saved successfully to {output_path}\")\n",
    "\n"
   ]
  },
  {
   "cell_type": "code",
   "execution_count": null,
   "id": "a48d10fc-3233-46d7-b147-f3951f2280db",
   "metadata": {},
   "outputs": [],
   "source": []
  }
 ],
 "metadata": {
  "kernelspec": {
   "display_name": "Python 3 (ipykernel)",
   "language": "python",
   "name": "python3"
  },
  "language_info": {
   "codemirror_mode": {
    "name": "ipython",
    "version": 3
   },
   "file_extension": ".py",
   "mimetype": "text/x-python",
   "name": "python",
   "nbconvert_exporter": "python",
   "pygments_lexer": "ipython3",
   "version": "3.12.7"
  }
 },
 "nbformat": 4,
 "nbformat_minor": 5
}
